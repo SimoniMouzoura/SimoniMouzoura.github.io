{
  "nbformat": 4,
  "nbformat_minor": 0,
  "metadata": {
    "colab": {
      "name": "scraperHW.ipynb",
      "provenance": [],
      "collapsed_sections": []
    },
    "kernelspec": {
      "name": "python3",
      "display_name": "Python 3"
    },
    "language_info": {
      "name": "python"
    }
  },
  "cells": [
    {
      "cell_type": "code",
      "metadata": {
        "id": "C7PaNXzn6Tr7"
      },
      "source": [
        "import requests, pandas as pd"
      ],
      "execution_count": null,
      "outputs": []
    },
    {
      "cell_type": "code",
      "metadata": {
        "id": "wK7Whn9x5_Al"
      },
      "source": [
        "from bs4 import BeautifulSoup"
      ],
      "execution_count": null,
      "outputs": []
    },
    {
      "cell_type": "code",
      "metadata": {
        "id": "1-wsCkY1gC72"
      },
      "source": [
        "tables = pd.read_html('https://www.numbeo.com/quality-of-life/rankings.jsp')"
      ],
      "execution_count": null,
      "outputs": []
    },
    {
      "cell_type": "code",
      "metadata": {
        "id": "XBB1gR8kYE0r"
      },
      "source": [
        "df = tables[1]"
      ],
      "execution_count": null,
      "outputs": []
    },
    {
      "cell_type": "code",
      "metadata": {
        "colab": {
          "base_uri": "https://localhost:8080/",
          "height": 476
        },
        "id": "w3i9H5DdYTsZ",
        "outputId": "bbfe77c9-e788-4a0f-ca1b-722a376632a7"
      },
      "source": [
        "df"
      ],
      "execution_count": null,
      "outputs": [
        {
          "output_type": "execute_result",
          "data": {
            "text/html": [
              "<div>\n",
              "<style scoped>\n",
              "    .dataframe tbody tr th:only-of-type {\n",
              "        vertical-align: middle;\n",
              "    }\n",
              "\n",
              "    .dataframe tbody tr th {\n",
              "        vertical-align: top;\n",
              "    }\n",
              "\n",
              "    .dataframe thead th {\n",
              "        text-align: right;\n",
              "    }\n",
              "</style>\n",
              "<table border=\"1\" class=\"dataframe\">\n",
              "  <thead>\n",
              "    <tr style=\"text-align: right;\">\n",
              "      <th></th>\n",
              "      <th>Rank</th>\n",
              "      <th>City</th>\n",
              "      <th>Quality of Life Index</th>\n",
              "      <th>Purchasing Power Index</th>\n",
              "      <th>Safety Index</th>\n",
              "      <th>Health Care Index</th>\n",
              "      <th>Cost of Living Index</th>\n",
              "      <th>Property Price to Income Ratio</th>\n",
              "      <th>Traffic Commute Time Index</th>\n",
              "      <th>Pollution Index</th>\n",
              "      <th>Climate Index</th>\n",
              "    </tr>\n",
              "  </thead>\n",
              "  <tbody>\n",
              "    <tr>\n",
              "      <th>0</th>\n",
              "      <td>NaN</td>\n",
              "      <td>Canberra, Australia</td>\n",
              "      <td>200.38</td>\n",
              "      <td>89.71</td>\n",
              "      <td>77.72</td>\n",
              "      <td>81.71</td>\n",
              "      <td>79.64</td>\n",
              "      <td>5.53</td>\n",
              "      <td>24.09</td>\n",
              "      <td>13.61</td>\n",
              "      <td>82.72</td>\n",
              "    </tr>\n",
              "    <tr>\n",
              "      <th>1</th>\n",
              "      <td>NaN</td>\n",
              "      <td>Adelaide, Australia</td>\n",
              "      <td>200.03</td>\n",
              "      <td>91.44</td>\n",
              "      <td>71.21</td>\n",
              "      <td>80.84</td>\n",
              "      <td>78.13</td>\n",
              "      <td>4.12</td>\n",
              "      <td>24.05</td>\n",
              "      <td>18.29</td>\n",
              "      <td>94.96</td>\n",
              "    </tr>\n",
              "    <tr>\n",
              "      <th>2</th>\n",
              "      <td>NaN</td>\n",
              "      <td>Raleigh, NC, United States</td>\n",
              "      <td>197.30</td>\n",
              "      <td>119.78</td>\n",
              "      <td>65.55</td>\n",
              "      <td>75.64</td>\n",
              "      <td>69.69</td>\n",
              "      <td>3.16</td>\n",
              "      <td>32.79</td>\n",
              "      <td>22.61</td>\n",
              "      <td>83.88</td>\n",
              "    </tr>\n",
              "    <tr>\n",
              "      <th>3</th>\n",
              "      <td>NaN</td>\n",
              "      <td>Zurich, Switzerland</td>\n",
              "      <td>194.41</td>\n",
              "      <td>111.12</td>\n",
              "      <td>83.67</td>\n",
              "      <td>75.07</td>\n",
              "      <td>130.29</td>\n",
              "      <td>7.67</td>\n",
              "      <td>33.64</td>\n",
              "      <td>17.31</td>\n",
              "      <td>81.48</td>\n",
              "    </tr>\n",
              "    <tr>\n",
              "      <th>4</th>\n",
              "      <td>NaN</td>\n",
              "      <td>Wellington, New Zealand</td>\n",
              "      <td>193.89</td>\n",
              "      <td>82.04</td>\n",
              "      <td>71.45</td>\n",
              "      <td>74.90</td>\n",
              "      <td>77.37</td>\n",
              "      <td>6.27</td>\n",
              "      <td>27.74</td>\n",
              "      <td>13.95</td>\n",
              "      <td>97.68</td>\n",
              "    </tr>\n",
              "    <tr>\n",
              "      <th>...</th>\n",
              "      <td>...</td>\n",
              "      <td>...</td>\n",
              "      <td>...</td>\n",
              "      <td>...</td>\n",
              "      <td>...</td>\n",
              "      <td>...</td>\n",
              "      <td>...</td>\n",
              "      <td>...</td>\n",
              "      <td>...</td>\n",
              "      <td>...</td>\n",
              "      <td>...</td>\n",
              "    </tr>\n",
              "    <tr>\n",
              "      <th>236</th>\n",
              "      <td>NaN</td>\n",
              "      <td>Jakarta, Indonesia</td>\n",
              "      <td>68.46</td>\n",
              "      <td>23.92</td>\n",
              "      <td>46.58</td>\n",
              "      <td>56.85</td>\n",
              "      <td>41.75</td>\n",
              "      <td>21.57</td>\n",
              "      <td>52.88</td>\n",
              "      <td>84.32</td>\n",
              "      <td>63.76</td>\n",
              "    </tr>\n",
              "    <tr>\n",
              "      <th>237</th>\n",
              "      <td>NaN</td>\n",
              "      <td>Dhaka, Bangladesh</td>\n",
              "      <td>51.24</td>\n",
              "      <td>19.96</td>\n",
              "      <td>35.09</td>\n",
              "      <td>39.90</td>\n",
              "      <td>35.27</td>\n",
              "      <td>18.94</td>\n",
              "      <td>58.97</td>\n",
              "      <td>93.10</td>\n",
              "      <td>71.29</td>\n",
              "    </tr>\n",
              "    <tr>\n",
              "      <th>238</th>\n",
              "      <td>NaN</td>\n",
              "      <td>Lagos, Nigeria</td>\n",
              "      <td>50.72</td>\n",
              "      <td>8.67</td>\n",
              "      <td>34.63</td>\n",
              "      <td>46.25</td>\n",
              "      <td>36.41</td>\n",
              "      <td>12.86</td>\n",
              "      <td>66.78</td>\n",
              "      <td>88.39</td>\n",
              "      <td>60.75</td>\n",
              "    </tr>\n",
              "    <tr>\n",
              "      <th>239</th>\n",
              "      <td>NaN</td>\n",
              "      <td>Manila, Philippines</td>\n",
              "      <td>41.88</td>\n",
              "      <td>17.45</td>\n",
              "      <td>35.22</td>\n",
              "      <td>63.07</td>\n",
              "      <td>42.75</td>\n",
              "      <td>36.93</td>\n",
              "      <td>54.36</td>\n",
              "      <td>89.95</td>\n",
              "      <td>61.23</td>\n",
              "    </tr>\n",
              "    <tr>\n",
              "      <th>240</th>\n",
              "      <td>NaN</td>\n",
              "      <td>Tehran, Iran</td>\n",
              "      <td>35.22</td>\n",
              "      <td>12.40</td>\n",
              "      <td>45.33</td>\n",
              "      <td>52.83</td>\n",
              "      <td>37.47</td>\n",
              "      <td>52.69</td>\n",
              "      <td>52.90</td>\n",
              "      <td>81.46</td>\n",
              "      <td>70.99</td>\n",
              "    </tr>\n",
              "  </tbody>\n",
              "</table>\n",
              "<p>241 rows × 11 columns</p>\n",
              "</div>"
            ],
            "text/plain": [
              "     Rank                        City  ...  Pollution Index  Climate Index\n",
              "0     NaN         Canberra, Australia  ...            13.61          82.72\n",
              "1     NaN         Adelaide, Australia  ...            18.29          94.96\n",
              "2     NaN  Raleigh, NC, United States  ...            22.61          83.88\n",
              "3     NaN         Zurich, Switzerland  ...            17.31          81.48\n",
              "4     NaN     Wellington, New Zealand  ...            13.95          97.68\n",
              "..    ...                         ...  ...              ...            ...\n",
              "236   NaN          Jakarta, Indonesia  ...            84.32          63.76\n",
              "237   NaN           Dhaka, Bangladesh  ...            93.10          71.29\n",
              "238   NaN              Lagos, Nigeria  ...            88.39          60.75\n",
              "239   NaN         Manila, Philippines  ...            89.95          61.23\n",
              "240   NaN                Tehran, Iran  ...            81.46          70.99\n",
              "\n",
              "[241 rows x 11 columns]"
            ]
          },
          "metadata": {},
          "execution_count": 17
        }
      ]
    },
    {
      "cell_type": "code",
      "metadata": {
        "id": "ueeNLMGZYm6c"
      },
      "source": [
        "df.to_csv('qualityoflife_index.csv')"
      ],
      "execution_count": null,
      "outputs": []
    }
  ]
}